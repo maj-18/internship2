{
 "cells": [
  {
   "cell_type": "code",
   "execution_count": 1,
   "id": "45a6a69c",
   "metadata": {},
   "outputs": [],
   "source": [
    "#importing libraries\n",
    "import pandas as pd\n",
    "import numpy as np\n",
    "import matplotlib.pyplot as plt\n",
    "import seaborn as sns\n",
    "import warnings\n",
    "warnings.filterwarnings(\"ignore\")"
   ]
  },
  {
   "cell_type": "code",
   "execution_count": 2,
   "id": "23babaa4",
   "metadata": {},
   "outputs": [],
   "source": [
    "#reading the dataset\n",
    "data = pd.read_csv('Mac.csv')"
   ]
  },
  {
   "cell_type": "code",
   "execution_count": 3,
   "id": "30630bd5",
   "metadata": {},
   "outputs": [
    {
     "data": {
      "text/plain": [
       "Index(['yummy', 'convenient', 'spicy', 'fattening', 'greasy', 'fast', 'cheap',\n",
       "       'tasty', 'expensive', 'healthy', 'disgusting', 'Like', 'Age',\n",
       "       'VisitFrequency', 'Gender'],\n",
       "      dtype='object')"
      ]
     },
     "execution_count": 3,
     "metadata": {},
     "output_type": "execute_result"
    }
   ],
   "source": [
    "#columns in the dataset\n",
    "data.columns"
   ]
  },
  {
   "cell_type": "code",
   "execution_count": 4,
   "id": "fe2bc745",
   "metadata": {},
   "outputs": [
    {
     "data": {
      "text/plain": [
       "(1453, 15)"
      ]
     },
     "execution_count": 4,
     "metadata": {},
     "output_type": "execute_result"
    }
   ],
   "source": [
    "data.shape"
   ]
  },
  {
   "cell_type": "code",
   "execution_count": 5,
   "id": "d92059a1",
   "metadata": {},
   "outputs": [
    {
     "data": {
      "text/html": [
       "<div>\n",
       "<style scoped>\n",
       "    .dataframe tbody tr th:only-of-type {\n",
       "        vertical-align: middle;\n",
       "    }\n",
       "\n",
       "    .dataframe tbody tr th {\n",
       "        vertical-align: top;\n",
       "    }\n",
       "\n",
       "    .dataframe thead th {\n",
       "        text-align: right;\n",
       "    }\n",
       "</style>\n",
       "<table border=\"1\" class=\"dataframe\">\n",
       "  <thead>\n",
       "    <tr style=\"text-align: right;\">\n",
       "      <th></th>\n",
       "      <th>yummy</th>\n",
       "      <th>convenient</th>\n",
       "      <th>spicy</th>\n",
       "      <th>fattening</th>\n",
       "      <th>greasy</th>\n",
       "      <th>fast</th>\n",
       "      <th>cheap</th>\n",
       "      <th>tasty</th>\n",
       "      <th>expensive</th>\n",
       "      <th>healthy</th>\n",
       "      <th>disgusting</th>\n",
       "      <th>Like</th>\n",
       "      <th>Age</th>\n",
       "      <th>VisitFrequency</th>\n",
       "      <th>Gender</th>\n",
       "    </tr>\n",
       "  </thead>\n",
       "  <tbody>\n",
       "    <tr>\n",
       "      <th>0</th>\n",
       "      <td>No</td>\n",
       "      <td>Yes</td>\n",
       "      <td>No</td>\n",
       "      <td>Yes</td>\n",
       "      <td>No</td>\n",
       "      <td>Yes</td>\n",
       "      <td>Yes</td>\n",
       "      <td>No</td>\n",
       "      <td>Yes</td>\n",
       "      <td>No</td>\n",
       "      <td>No</td>\n",
       "      <td>-3</td>\n",
       "      <td>61</td>\n",
       "      <td>Every three months</td>\n",
       "      <td>Female</td>\n",
       "    </tr>\n",
       "    <tr>\n",
       "      <th>1</th>\n",
       "      <td>Yes</td>\n",
       "      <td>Yes</td>\n",
       "      <td>No</td>\n",
       "      <td>Yes</td>\n",
       "      <td>Yes</td>\n",
       "      <td>Yes</td>\n",
       "      <td>Yes</td>\n",
       "      <td>Yes</td>\n",
       "      <td>Yes</td>\n",
       "      <td>No</td>\n",
       "      <td>No</td>\n",
       "      <td>2</td>\n",
       "      <td>51</td>\n",
       "      <td>Every three months</td>\n",
       "      <td>Female</td>\n",
       "    </tr>\n",
       "    <tr>\n",
       "      <th>2</th>\n",
       "      <td>No</td>\n",
       "      <td>Yes</td>\n",
       "      <td>Yes</td>\n",
       "      <td>Yes</td>\n",
       "      <td>Yes</td>\n",
       "      <td>Yes</td>\n",
       "      <td>No</td>\n",
       "      <td>Yes</td>\n",
       "      <td>Yes</td>\n",
       "      <td>Yes</td>\n",
       "      <td>No</td>\n",
       "      <td>1</td>\n",
       "      <td>62</td>\n",
       "      <td>Every three months</td>\n",
       "      <td>Female</td>\n",
       "    </tr>\n",
       "    <tr>\n",
       "      <th>3</th>\n",
       "      <td>Yes</td>\n",
       "      <td>Yes</td>\n",
       "      <td>No</td>\n",
       "      <td>Yes</td>\n",
       "      <td>Yes</td>\n",
       "      <td>Yes</td>\n",
       "      <td>Yes</td>\n",
       "      <td>Yes</td>\n",
       "      <td>No</td>\n",
       "      <td>No</td>\n",
       "      <td>Yes</td>\n",
       "      <td>4</td>\n",
       "      <td>69</td>\n",
       "      <td>Once a week</td>\n",
       "      <td>Female</td>\n",
       "    </tr>\n",
       "    <tr>\n",
       "      <th>4</th>\n",
       "      <td>No</td>\n",
       "      <td>Yes</td>\n",
       "      <td>No</td>\n",
       "      <td>Yes</td>\n",
       "      <td>Yes</td>\n",
       "      <td>Yes</td>\n",
       "      <td>Yes</td>\n",
       "      <td>No</td>\n",
       "      <td>No</td>\n",
       "      <td>Yes</td>\n",
       "      <td>No</td>\n",
       "      <td>2</td>\n",
       "      <td>49</td>\n",
       "      <td>Once a month</td>\n",
       "      <td>Male</td>\n",
       "    </tr>\n",
       "  </tbody>\n",
       "</table>\n",
       "</div>"
      ],
      "text/plain": [
       "  yummy convenient spicy fattening greasy fast cheap tasty expensive healthy  \\\n",
       "0    No        Yes    No       Yes     No  Yes   Yes    No       Yes      No   \n",
       "1   Yes        Yes    No       Yes    Yes  Yes   Yes   Yes       Yes      No   \n",
       "2    No        Yes   Yes       Yes    Yes  Yes    No   Yes       Yes     Yes   \n",
       "3   Yes        Yes    No       Yes    Yes  Yes   Yes   Yes        No      No   \n",
       "4    No        Yes    No       Yes    Yes  Yes   Yes    No        No     Yes   \n",
       "\n",
       "  disgusting Like  Age      VisitFrequency  Gender  \n",
       "0         No   -3   61  Every three months  Female  \n",
       "1         No    2   51  Every three months  Female  \n",
       "2         No    1   62  Every three months  Female  \n",
       "3        Yes    4   69         Once a week  Female  \n",
       "4         No    2   49        Once a month    Male  "
      ]
     },
     "execution_count": 5,
     "metadata": {},
     "output_type": "execute_result"
    }
   ],
   "source": [
    "data.head()"
   ]
  },
  {
   "cell_type": "code",
   "execution_count": 6,
   "id": "f1b5ef51",
   "metadata": {},
   "outputs": [
    {
     "name": "stdout",
     "output_type": "stream",
     "text": [
      "<class 'pandas.core.frame.DataFrame'>\n",
      "RangeIndex: 1453 entries, 0 to 1452\n",
      "Data columns (total 15 columns):\n",
      " #   Column          Non-Null Count  Dtype \n",
      "---  ------          --------------  ----- \n",
      " 0   yummy           1453 non-null   object\n",
      " 1   convenient      1453 non-null   object\n",
      " 2   spicy           1453 non-null   object\n",
      " 3   fattening       1453 non-null   object\n",
      " 4   greasy          1453 non-null   object\n",
      " 5   fast            1453 non-null   object\n",
      " 6   cheap           1453 non-null   object\n",
      " 7   tasty           1453 non-null   object\n",
      " 8   expensive       1453 non-null   object\n",
      " 9   healthy         1453 non-null   object\n",
      " 10  disgusting      1453 non-null   object\n",
      " 11  Like            1453 non-null   object\n",
      " 12  Age             1453 non-null   int64 \n",
      " 13  VisitFrequency  1453 non-null   object\n",
      " 14  Gender          1453 non-null   object\n",
      "dtypes: int64(1), object(14)\n",
      "memory usage: 170.4+ KB\n"
     ]
    }
   ],
   "source": [
    "data.info()"
   ]
  },
  {
   "cell_type": "code",
   "execution_count": 7,
   "id": "964f6f16",
   "metadata": {},
   "outputs": [],
   "source": [
    "data['yummy'] = [1 if x=='Yes' else 0 for x in data['yummy']]"
   ]
  },
  {
   "cell_type": "code",
   "execution_count": 8,
   "id": "2d38992f",
   "metadata": {},
   "outputs": [],
   "source": [
    "data['convenient'] = [1 if x=='Yes' else 0 for x in data['convenient']]"
   ]
  },
  {
   "cell_type": "code",
   "execution_count": 9,
   "id": "4316c6ad",
   "metadata": {},
   "outputs": [],
   "source": [
    "data['spicy'] = [1 if x=='Yes' else 0 for x in data['spicy']]"
   ]
  },
  {
   "cell_type": "code",
   "execution_count": 10,
   "id": "61bde2d8",
   "metadata": {},
   "outputs": [],
   "source": [
    "data['fattening'] = [1 if x=='Yes' else 0 for x in data['fattening']]"
   ]
  },
  {
   "cell_type": "code",
   "execution_count": 11,
   "id": "2c4fcb14",
   "metadata": {},
   "outputs": [],
   "source": [
    "data['greasy'] = [1 if x=='Yes' else 0 for x in data['greasy']]"
   ]
  },
  {
   "cell_type": "code",
   "execution_count": 12,
   "id": "46a87694",
   "metadata": {},
   "outputs": [],
   "source": [
    "data['fast'] = [1 if x=='Yes' else 0 for x in data['fast']]"
   ]
  },
  {
   "cell_type": "code",
   "execution_count": 13,
   "id": "182bd4c6",
   "metadata": {},
   "outputs": [],
   "source": [
    "data['cheap'] = [1 if x=='Yes' else 0 for x in data['cheap']]"
   ]
  },
  {
   "cell_type": "code",
   "execution_count": 14,
   "id": "eb93a860",
   "metadata": {},
   "outputs": [],
   "source": [
    "data['tasty'] = [1 if x=='Yes' else 0 for x in data['tasty']]"
   ]
  },
  {
   "cell_type": "code",
   "execution_count": 15,
   "id": "a839c0df",
   "metadata": {},
   "outputs": [],
   "source": [
    "data['expensive'] = [1 if x=='Yes' else 0 for x in data['expensive']]"
   ]
  },
  {
   "cell_type": "code",
   "execution_count": 16,
   "id": "3a8935a1",
   "metadata": {},
   "outputs": [],
   "source": [
    "data['healthy'] = [1 if x=='Yes' else 0 for x in data['healthy']]"
   ]
  },
  {
   "cell_type": "code",
   "execution_count": 17,
   "id": "bd67f869",
   "metadata": {},
   "outputs": [],
   "source": [
    "data['disgusting'] = [1 if x=='Yes' else 0 for x in data['disgusting']]"
   ]
  },
  {
   "cell_type": "code",
   "execution_count": 18,
   "id": "ef1bba76",
   "metadata": {},
   "outputs": [
    {
     "data": {
      "text/html": [
       "<div>\n",
       "<style scoped>\n",
       "    .dataframe tbody tr th:only-of-type {\n",
       "        vertical-align: middle;\n",
       "    }\n",
       "\n",
       "    .dataframe tbody tr th {\n",
       "        vertical-align: top;\n",
       "    }\n",
       "\n",
       "    .dataframe thead th {\n",
       "        text-align: right;\n",
       "    }\n",
       "</style>\n",
       "<table border=\"1\" class=\"dataframe\">\n",
       "  <thead>\n",
       "    <tr style=\"text-align: right;\">\n",
       "      <th></th>\n",
       "      <th>yummy</th>\n",
       "      <th>convenient</th>\n",
       "      <th>spicy</th>\n",
       "      <th>fattening</th>\n",
       "      <th>greasy</th>\n",
       "      <th>fast</th>\n",
       "      <th>cheap</th>\n",
       "      <th>tasty</th>\n",
       "      <th>expensive</th>\n",
       "      <th>healthy</th>\n",
       "      <th>disgusting</th>\n",
       "      <th>Like</th>\n",
       "      <th>Age</th>\n",
       "      <th>VisitFrequency</th>\n",
       "      <th>Gender</th>\n",
       "    </tr>\n",
       "  </thead>\n",
       "  <tbody>\n",
       "    <tr>\n",
       "      <th>0</th>\n",
       "      <td>0</td>\n",
       "      <td>1</td>\n",
       "      <td>0</td>\n",
       "      <td>1</td>\n",
       "      <td>0</td>\n",
       "      <td>1</td>\n",
       "      <td>1</td>\n",
       "      <td>0</td>\n",
       "      <td>1</td>\n",
       "      <td>0</td>\n",
       "      <td>0</td>\n",
       "      <td>-3</td>\n",
       "      <td>61</td>\n",
       "      <td>Every three months</td>\n",
       "      <td>Female</td>\n",
       "    </tr>\n",
       "    <tr>\n",
       "      <th>1</th>\n",
       "      <td>1</td>\n",
       "      <td>1</td>\n",
       "      <td>0</td>\n",
       "      <td>1</td>\n",
       "      <td>1</td>\n",
       "      <td>1</td>\n",
       "      <td>1</td>\n",
       "      <td>1</td>\n",
       "      <td>1</td>\n",
       "      <td>0</td>\n",
       "      <td>0</td>\n",
       "      <td>2</td>\n",
       "      <td>51</td>\n",
       "      <td>Every three months</td>\n",
       "      <td>Female</td>\n",
       "    </tr>\n",
       "    <tr>\n",
       "      <th>2</th>\n",
       "      <td>0</td>\n",
       "      <td>1</td>\n",
       "      <td>1</td>\n",
       "      <td>1</td>\n",
       "      <td>1</td>\n",
       "      <td>1</td>\n",
       "      <td>0</td>\n",
       "      <td>1</td>\n",
       "      <td>1</td>\n",
       "      <td>1</td>\n",
       "      <td>0</td>\n",
       "      <td>1</td>\n",
       "      <td>62</td>\n",
       "      <td>Every three months</td>\n",
       "      <td>Female</td>\n",
       "    </tr>\n",
       "    <tr>\n",
       "      <th>3</th>\n",
       "      <td>1</td>\n",
       "      <td>1</td>\n",
       "      <td>0</td>\n",
       "      <td>1</td>\n",
       "      <td>1</td>\n",
       "      <td>1</td>\n",
       "      <td>1</td>\n",
       "      <td>1</td>\n",
       "      <td>0</td>\n",
       "      <td>0</td>\n",
       "      <td>1</td>\n",
       "      <td>4</td>\n",
       "      <td>69</td>\n",
       "      <td>Once a week</td>\n",
       "      <td>Female</td>\n",
       "    </tr>\n",
       "    <tr>\n",
       "      <th>4</th>\n",
       "      <td>0</td>\n",
       "      <td>1</td>\n",
       "      <td>0</td>\n",
       "      <td>1</td>\n",
       "      <td>1</td>\n",
       "      <td>1</td>\n",
       "      <td>1</td>\n",
       "      <td>0</td>\n",
       "      <td>0</td>\n",
       "      <td>1</td>\n",
       "      <td>0</td>\n",
       "      <td>2</td>\n",
       "      <td>49</td>\n",
       "      <td>Once a month</td>\n",
       "      <td>Male</td>\n",
       "    </tr>\n",
       "  </tbody>\n",
       "</table>\n",
       "</div>"
      ],
      "text/plain": [
       "   yummy  convenient  spicy  fattening  greasy  fast  cheap  tasty  expensive  \\\n",
       "0      0           1      0          1       0     1      1      0          1   \n",
       "1      1           1      0          1       1     1      1      1          1   \n",
       "2      0           1      1          1       1     1      0      1          1   \n",
       "3      1           1      0          1       1     1      1      1          0   \n",
       "4      0           1      0          1       1     1      1      0          0   \n",
       "\n",
       "   healthy  disgusting Like  Age      VisitFrequency  Gender  \n",
       "0        0           0   -3   61  Every three months  Female  \n",
       "1        0           0    2   51  Every three months  Female  \n",
       "2        1           0    1   62  Every three months  Female  \n",
       "3        0           1    4   69         Once a week  Female  \n",
       "4        1           0    2   49        Once a month    Male  "
      ]
     },
     "execution_count": 18,
     "metadata": {},
     "output_type": "execute_result"
    }
   ],
   "source": [
    "data.head()"
   ]
  },
  {
   "cell_type": "code",
   "execution_count": 20,
   "id": "bd346357",
   "metadata": {},
   "outputs": [],
   "source": [
    "data1= data.drop(['Like','Age','VisitFrequency','Gender'],axis=1)"
   ]
  },
  {
   "cell_type": "code",
   "execution_count": 21,
   "id": "bdb320a0",
   "metadata": {},
   "outputs": [
    {
     "data": {
      "text/html": [
       "<div>\n",
       "<style scoped>\n",
       "    .dataframe tbody tr th:only-of-type {\n",
       "        vertical-align: middle;\n",
       "    }\n",
       "\n",
       "    .dataframe tbody tr th {\n",
       "        vertical-align: top;\n",
       "    }\n",
       "\n",
       "    .dataframe thead th {\n",
       "        text-align: right;\n",
       "    }\n",
       "</style>\n",
       "<table border=\"1\" class=\"dataframe\">\n",
       "  <thead>\n",
       "    <tr style=\"text-align: right;\">\n",
       "      <th></th>\n",
       "      <th>yummy</th>\n",
       "      <th>convenient</th>\n",
       "      <th>spicy</th>\n",
       "      <th>fattening</th>\n",
       "      <th>greasy</th>\n",
       "      <th>fast</th>\n",
       "      <th>cheap</th>\n",
       "      <th>tasty</th>\n",
       "      <th>expensive</th>\n",
       "      <th>healthy</th>\n",
       "      <th>disgusting</th>\n",
       "    </tr>\n",
       "  </thead>\n",
       "  <tbody>\n",
       "    <tr>\n",
       "      <th>0</th>\n",
       "      <td>0</td>\n",
       "      <td>1</td>\n",
       "      <td>0</td>\n",
       "      <td>1</td>\n",
       "      <td>0</td>\n",
       "      <td>1</td>\n",
       "      <td>1</td>\n",
       "      <td>0</td>\n",
       "      <td>1</td>\n",
       "      <td>0</td>\n",
       "      <td>0</td>\n",
       "    </tr>\n",
       "    <tr>\n",
       "      <th>1</th>\n",
       "      <td>1</td>\n",
       "      <td>1</td>\n",
       "      <td>0</td>\n",
       "      <td>1</td>\n",
       "      <td>1</td>\n",
       "      <td>1</td>\n",
       "      <td>1</td>\n",
       "      <td>1</td>\n",
       "      <td>1</td>\n",
       "      <td>0</td>\n",
       "      <td>0</td>\n",
       "    </tr>\n",
       "    <tr>\n",
       "      <th>2</th>\n",
       "      <td>0</td>\n",
       "      <td>1</td>\n",
       "      <td>1</td>\n",
       "      <td>1</td>\n",
       "      <td>1</td>\n",
       "      <td>1</td>\n",
       "      <td>0</td>\n",
       "      <td>1</td>\n",
       "      <td>1</td>\n",
       "      <td>1</td>\n",
       "      <td>0</td>\n",
       "    </tr>\n",
       "    <tr>\n",
       "      <th>3</th>\n",
       "      <td>1</td>\n",
       "      <td>1</td>\n",
       "      <td>0</td>\n",
       "      <td>1</td>\n",
       "      <td>1</td>\n",
       "      <td>1</td>\n",
       "      <td>1</td>\n",
       "      <td>1</td>\n",
       "      <td>0</td>\n",
       "      <td>0</td>\n",
       "      <td>1</td>\n",
       "    </tr>\n",
       "    <tr>\n",
       "      <th>4</th>\n",
       "      <td>0</td>\n",
       "      <td>1</td>\n",
       "      <td>0</td>\n",
       "      <td>1</td>\n",
       "      <td>1</td>\n",
       "      <td>1</td>\n",
       "      <td>1</td>\n",
       "      <td>0</td>\n",
       "      <td>0</td>\n",
       "      <td>1</td>\n",
       "      <td>0</td>\n",
       "    </tr>\n",
       "  </tbody>\n",
       "</table>\n",
       "</div>"
      ],
      "text/plain": [
       "   yummy  convenient  spicy  fattening  greasy  fast  cheap  tasty  expensive  \\\n",
       "0      0           1      0          1       0     1      1      0          1   \n",
       "1      1           1      0          1       1     1      1      1          1   \n",
       "2      0           1      1          1       1     1      0      1          1   \n",
       "3      1           1      0          1       1     1      1      1          0   \n",
       "4      0           1      0          1       1     1      1      0          0   \n",
       "\n",
       "   healthy  disgusting  \n",
       "0        0           0  \n",
       "1        0           0  \n",
       "2        1           0  \n",
       "3        0           1  \n",
       "4        1           0  "
      ]
     },
     "execution_count": 21,
     "metadata": {},
     "output_type": "execute_result"
    }
   ],
   "source": [
    "data1.head()"
   ]
  },
  {
   "cell_type": "code",
   "execution_count": 22,
   "id": "fb91f56d",
   "metadata": {},
   "outputs": [
    {
     "data": {
      "text/plain": [
       "yummy         0.55\n",
       "convenient    0.91\n",
       "spicy         0.09\n",
       "fattening     0.87\n",
       "greasy        0.53\n",
       "fast          0.90\n",
       "cheap         0.60\n",
       "tasty         0.64\n",
       "expensive     0.36\n",
       "healthy       0.20\n",
       "disgusting    0.24\n",
       "dtype: float64"
      ]
     },
     "execution_count": 22,
     "metadata": {},
     "output_type": "execute_result"
    }
   ],
   "source": [
    "data1.mean().round(2)"
   ]
  },
  {
   "cell_type": "code",
   "execution_count": 23,
   "id": "80e3ab63",
   "metadata": {},
   "outputs": [],
   "source": [
    "from sklearn.decomposition import PCA\n",
    " \n",
    "pca = PCA(n_components = 11)"
   ]
  },
  {
   "cell_type": "code",
   "execution_count": 26,
   "id": "858cc602",
   "metadata": {},
   "outputs": [],
   "source": [
    "data2 = pca.fit_transform(data1)"
   ]
  },
  {
   "cell_type": "code",
   "execution_count": 27,
   "id": "1a66f8bb",
   "metadata": {},
   "outputs": [
    {
     "data": {
      "text/plain": [
       "array([[ 0.42536706, -0.21907878,  0.6632553 , ...,  0.18100693,\n",
       "         0.51570617, -0.56707389],\n",
       "       [-0.21863768,  0.38818996, -0.73082668, ...,  0.11147641,\n",
       "         0.49331285, -0.50044033],\n",
       "       [ 0.37541475,  0.73043507, -0.12203978, ..., -0.32228786,\n",
       "         0.06175857,  0.24274108],\n",
       "       ...,\n",
       "       [-0.18589445,  1.06266156,  0.22085675, ...,  0.03825472,\n",
       "         0.05651822, -0.01279977],\n",
       "       [-1.18206441, -0.03856977,  0.56156066, ...,  0.02226748,\n",
       "        -0.00257265, -0.10531631],\n",
       "       [ 1.55024186,  0.27503101, -0.01373727, ..., -0.13658866,\n",
       "        -0.43279782, -0.45607556]])"
      ]
     },
     "execution_count": 27,
     "metadata": {},
     "output_type": "execute_result"
    }
   ],
   "source": [
    "data2"
   ]
  },
  {
   "cell_type": "code",
   "execution_count": 28,
   "id": "498150fc",
   "metadata": {},
   "outputs": [],
   "source": [
    "features=['yummy','convenient','spicy','fattening','greasy','fast','cheap','tasty','expensive','healthy','disgusting']"
   ]
  },
  {
   "cell_type": "code",
   "execution_count": 29,
   "id": "d87962cd",
   "metadata": {},
   "outputs": [],
   "source": [
    "x = data.loc[:, features].values"
   ]
  },
  {
   "cell_type": "code",
   "execution_count": 30,
   "id": "c802792d",
   "metadata": {},
   "outputs": [],
   "source": [
    "from sklearn.preprocessing import StandardScaler"
   ]
  },
  {
   "cell_type": "code",
   "execution_count": 31,
   "id": "fd7a667e",
   "metadata": {},
   "outputs": [],
   "source": [
    "x = StandardScaler().fit_transform(x)"
   ]
  },
  {
   "cell_type": "code",
   "execution_count": 32,
   "id": "1a8db144",
   "metadata": {},
   "outputs": [],
   "source": [
    "from sklearn.decomposition import PCA\n",
    "pca = PCA(n_components=11)\n",
    "principalC = pca.fit_transform(x)\n",
    "prpalDf = pd.DataFrame(data = principalC\n",
    "             , columns = ['PC1','PC2','PC3','PC4','PC5','PC6','PC7','PC8','PC9','PC10','PC11'])"
   ]
  },
  {
   "cell_type": "code",
   "execution_count": 33,
   "id": "544f3c7f",
   "metadata": {},
   "outputs": [
    {
     "data": {
      "text/html": [
       "<div>\n",
       "<style scoped>\n",
       "    .dataframe tbody tr th:only-of-type {\n",
       "        vertical-align: middle;\n",
       "    }\n",
       "\n",
       "    .dataframe tbody tr th {\n",
       "        vertical-align: top;\n",
       "    }\n",
       "\n",
       "    .dataframe thead th {\n",
       "        text-align: right;\n",
       "    }\n",
       "</style>\n",
       "<table border=\"1\" class=\"dataframe\">\n",
       "  <thead>\n",
       "    <tr style=\"text-align: right;\">\n",
       "      <th></th>\n",
       "      <th>PC1</th>\n",
       "      <th>PC2</th>\n",
       "      <th>PC3</th>\n",
       "      <th>PC4</th>\n",
       "      <th>PC5</th>\n",
       "      <th>PC6</th>\n",
       "      <th>PC7</th>\n",
       "      <th>PC8</th>\n",
       "      <th>PC9</th>\n",
       "      <th>PC10</th>\n",
       "      <th>PC11</th>\n",
       "    </tr>\n",
       "  </thead>\n",
       "  <tbody>\n",
       "    <tr>\n",
       "      <th>0</th>\n",
       "      <td>0.704334</td>\n",
       "      <td>-0.437016</td>\n",
       "      <td>0.268698</td>\n",
       "      <td>-0.872074</td>\n",
       "      <td>-1.521184</td>\n",
       "      <td>0.470160</td>\n",
       "      <td>-0.030969</td>\n",
       "      <td>-0.687116</td>\n",
       "      <td>0.367598</td>\n",
       "      <td>0.321161</td>\n",
       "      <td>1.701170</td>\n",
       "    </tr>\n",
       "    <tr>\n",
       "      <th>1</th>\n",
       "      <td>-0.467820</td>\n",
       "      <td>0.364277</td>\n",
       "      <td>-1.596835</td>\n",
       "      <td>-0.004835</td>\n",
       "      <td>0.462385</td>\n",
       "      <td>-0.449321</td>\n",
       "      <td>0.087351</td>\n",
       "      <td>0.446003</td>\n",
       "      <td>0.221855</td>\n",
       "      <td>0.191268</td>\n",
       "      <td>1.467681</td>\n",
       "    </tr>\n",
       "    <tr>\n",
       "      <th>2</th>\n",
       "      <td>0.191986</td>\n",
       "      <td>1.712949</td>\n",
       "      <td>-0.339413</td>\n",
       "      <td>3.368168</td>\n",
       "      <td>-1.266802</td>\n",
       "      <td>0.148058</td>\n",
       "      <td>-0.606634</td>\n",
       "      <td>-0.668576</td>\n",
       "      <td>1.377226</td>\n",
       "      <td>-1.259300</td>\n",
       "      <td>-0.128530</td>\n",
       "    </tr>\n",
       "    <tr>\n",
       "      <th>3</th>\n",
       "      <td>-0.116991</td>\n",
       "      <td>-1.155122</td>\n",
       "      <td>-1.003913</td>\n",
       "      <td>0.469589</td>\n",
       "      <td>1.141750</td>\n",
       "      <td>-0.857182</td>\n",
       "      <td>0.015843</td>\n",
       "      <td>0.390275</td>\n",
       "      <td>-1.578539</td>\n",
       "      <td>0.092189</td>\n",
       "      <td>-0.233201</td>\n",
       "    </tr>\n",
       "    <tr>\n",
       "      <th>4</th>\n",
       "      <td>-0.034724</td>\n",
       "      <td>-1.390267</td>\n",
       "      <td>0.792275</td>\n",
       "      <td>0.473031</td>\n",
       "      <td>-0.270488</td>\n",
       "      <td>-0.847963</td>\n",
       "      <td>-1.804085</td>\n",
       "      <td>-0.700019</td>\n",
       "      <td>1.630339</td>\n",
       "      <td>0.092449</td>\n",
       "      <td>-0.033144</td>\n",
       "    </tr>\n",
       "    <tr>\n",
       "      <th>...</th>\n",
       "      <td>...</td>\n",
       "      <td>...</td>\n",
       "      <td>...</td>\n",
       "      <td>...</td>\n",
       "      <td>...</td>\n",
       "      <td>...</td>\n",
       "      <td>...</td>\n",
       "      <td>...</td>\n",
       "      <td>...</td>\n",
       "      <td>...</td>\n",
       "      <td>...</td>\n",
       "    </tr>\n",
       "    <tr>\n",
       "      <th>1448</th>\n",
       "      <td>3.499105</td>\n",
       "      <td>1.069999</td>\n",
       "      <td>0.148971</td>\n",
       "      <td>-0.195977</td>\n",
       "      <td>0.787923</td>\n",
       "      <td>1.016536</td>\n",
       "      <td>-1.977414</td>\n",
       "      <td>0.049487</td>\n",
       "      <td>-0.964269</td>\n",
       "      <td>0.070579</td>\n",
       "      <td>0.155016</td>\n",
       "    </tr>\n",
       "    <tr>\n",
       "      <th>1449</th>\n",
       "      <td>-1.568786</td>\n",
       "      <td>0.899328</td>\n",
       "      <td>1.192503</td>\n",
       "      <td>-0.286497</td>\n",
       "      <td>2.234500</td>\n",
       "      <td>1.258306</td>\n",
       "      <td>-1.764159</td>\n",
       "      <td>-1.705500</td>\n",
       "      <td>-0.232987</td>\n",
       "      <td>-0.036497</td>\n",
       "      <td>0.039392</td>\n",
       "    </tr>\n",
       "    <tr>\n",
       "      <th>1450</th>\n",
       "      <td>-0.414275</td>\n",
       "      <td>1.810438</td>\n",
       "      <td>-1.071948</td>\n",
       "      <td>-0.901031</td>\n",
       "      <td>-0.750299</td>\n",
       "      <td>0.065975</td>\n",
       "      <td>0.720962</td>\n",
       "      <td>-0.397984</td>\n",
       "      <td>-0.344847</td>\n",
       "      <td>0.098558</td>\n",
       "      <td>0.118205</td>\n",
       "    </tr>\n",
       "    <tr>\n",
       "      <th>1451</th>\n",
       "      <td>-2.803630</td>\n",
       "      <td>0.562759</td>\n",
       "      <td>2.278887</td>\n",
       "      <td>0.083924</td>\n",
       "      <td>0.080147</td>\n",
       "      <td>-0.969368</td>\n",
       "      <td>-0.384558</td>\n",
       "      <td>0.604123</td>\n",
       "      <td>-0.211434</td>\n",
       "      <td>0.083127</td>\n",
       "      <td>0.077614</td>\n",
       "    </tr>\n",
       "    <tr>\n",
       "      <th>1452</th>\n",
       "      <td>3.499105</td>\n",
       "      <td>1.069999</td>\n",
       "      <td>0.148971</td>\n",
       "      <td>-0.195977</td>\n",
       "      <td>0.787923</td>\n",
       "      <td>1.016536</td>\n",
       "      <td>-1.977414</td>\n",
       "      <td>0.049487</td>\n",
       "      <td>-0.964269</td>\n",
       "      <td>0.070579</td>\n",
       "      <td>0.155016</td>\n",
       "    </tr>\n",
       "  </tbody>\n",
       "</table>\n",
       "<p>1453 rows × 11 columns</p>\n",
       "</div>"
      ],
      "text/plain": [
       "           PC1       PC2       PC3       PC4       PC5       PC6       PC7  \\\n",
       "0     0.704334 -0.437016  0.268698 -0.872074 -1.521184  0.470160 -0.030969   \n",
       "1    -0.467820  0.364277 -1.596835 -0.004835  0.462385 -0.449321  0.087351   \n",
       "2     0.191986  1.712949 -0.339413  3.368168 -1.266802  0.148058 -0.606634   \n",
       "3    -0.116991 -1.155122 -1.003913  0.469589  1.141750 -0.857182  0.015843   \n",
       "4    -0.034724 -1.390267  0.792275  0.473031 -0.270488 -0.847963 -1.804085   \n",
       "...        ...       ...       ...       ...       ...       ...       ...   \n",
       "1448  3.499105  1.069999  0.148971 -0.195977  0.787923  1.016536 -1.977414   \n",
       "1449 -1.568786  0.899328  1.192503 -0.286497  2.234500  1.258306 -1.764159   \n",
       "1450 -0.414275  1.810438 -1.071948 -0.901031 -0.750299  0.065975  0.720962   \n",
       "1451 -2.803630  0.562759  2.278887  0.083924  0.080147 -0.969368 -0.384558   \n",
       "1452  3.499105  1.069999  0.148971 -0.195977  0.787923  1.016536 -1.977414   \n",
       "\n",
       "           PC8       PC9      PC10      PC11  \n",
       "0    -0.687116  0.367598  0.321161  1.701170  \n",
       "1     0.446003  0.221855  0.191268  1.467681  \n",
       "2    -0.668576  1.377226 -1.259300 -0.128530  \n",
       "3     0.390275 -1.578539  0.092189 -0.233201  \n",
       "4    -0.700019  1.630339  0.092449 -0.033144  \n",
       "...        ...       ...       ...       ...  \n",
       "1448  0.049487 -0.964269  0.070579  0.155016  \n",
       "1449 -1.705500 -0.232987 -0.036497  0.039392  \n",
       "1450 -0.397984 -0.344847  0.098558  0.118205  \n",
       "1451  0.604123 -0.211434  0.083127  0.077614  \n",
       "1452  0.049487 -0.964269  0.070579  0.155016  \n",
       "\n",
       "[1453 rows x 11 columns]"
      ]
     },
     "execution_count": 33,
     "metadata": {},
     "output_type": "execute_result"
    }
   ],
   "source": [
    "prpalDf"
   ]
  },
  {
   "cell_type": "code",
   "execution_count": 34,
   "id": "0f6962b8",
   "metadata": {},
   "outputs": [
    {
     "data": {
      "text/html": [
       "<div>\n",
       "<style scoped>\n",
       "    .dataframe tbody tr th:only-of-type {\n",
       "        vertical-align: middle;\n",
       "    }\n",
       "\n",
       "    .dataframe tbody tr th {\n",
       "        vertical-align: top;\n",
       "    }\n",
       "\n",
       "    .dataframe thead th {\n",
       "        text-align: right;\n",
       "    }\n",
       "</style>\n",
       "<table border=\"1\" class=\"dataframe\">\n",
       "  <thead>\n",
       "    <tr style=\"text-align: right;\">\n",
       "      <th></th>\n",
       "      <th>PC1</th>\n",
       "      <th>PC2</th>\n",
       "      <th>PC3</th>\n",
       "      <th>PC4</th>\n",
       "      <th>PC5</th>\n",
       "      <th>PC6</th>\n",
       "      <th>PC7</th>\n",
       "      <th>PC8</th>\n",
       "      <th>PC9</th>\n",
       "      <th>PC10</th>\n",
       "      <th>PC11</th>\n",
       "    </tr>\n",
       "  </thead>\n",
       "  <tbody>\n",
       "    <tr>\n",
       "      <th>count</th>\n",
       "      <td>1453.0000</td>\n",
       "      <td>1453.0000</td>\n",
       "      <td>1453.0000</td>\n",
       "      <td>1453.0000</td>\n",
       "      <td>1453.0000</td>\n",
       "      <td>1453.0000</td>\n",
       "      <td>1453.0000</td>\n",
       "      <td>1453.0000</td>\n",
       "      <td>1453.0000</td>\n",
       "      <td>1453.0000</td>\n",
       "      <td>1453.0000</td>\n",
       "    </tr>\n",
       "    <tr>\n",
       "      <th>mean</th>\n",
       "      <td>0.0000</td>\n",
       "      <td>0.0000</td>\n",
       "      <td>0.0000</td>\n",
       "      <td>0.0000</td>\n",
       "      <td>-0.0000</td>\n",
       "      <td>-0.0000</td>\n",
       "      <td>-0.0000</td>\n",
       "      <td>0.0000</td>\n",
       "      <td>-0.0000</td>\n",
       "      <td>-0.0000</td>\n",
       "      <td>0.0000</td>\n",
       "    </tr>\n",
       "    <tr>\n",
       "      <th>std</th>\n",
       "      <td>1.6772</td>\n",
       "      <td>1.2779</td>\n",
       "      <td>1.1752</td>\n",
       "      <td>1.0401</td>\n",
       "      <td>0.9586</td>\n",
       "      <td>0.8846</td>\n",
       "      <td>0.8458</td>\n",
       "      <td>0.7699</td>\n",
       "      <td>0.7241</td>\n",
       "      <td>0.5548</td>\n",
       "      <td>0.5070</td>\n",
       "    </tr>\n",
       "    <tr>\n",
       "      <th>min</th>\n",
       "      <td>-2.8837</td>\n",
       "      <td>-2.2294</td>\n",
       "      <td>-1.8522</td>\n",
       "      <td>-1.4812</td>\n",
       "      <td>-2.8089</td>\n",
       "      <td>-2.7760</td>\n",
       "      <td>-2.7919</td>\n",
       "      <td>-2.0373</td>\n",
       "      <td>-2.2920</td>\n",
       "      <td>-1.5961</td>\n",
       "      <td>-1.7889</td>\n",
       "    </tr>\n",
       "    <tr>\n",
       "      <th>25%</th>\n",
       "      <td>-1.0828</td>\n",
       "      <td>-0.8196</td>\n",
       "      <td>-0.8166</td>\n",
       "      <td>-0.7416</td>\n",
       "      <td>-0.6595</td>\n",
       "      <td>-0.6526</td>\n",
       "      <td>-0.5181</td>\n",
       "      <td>-0.4690</td>\n",
       "      <td>-0.4512</td>\n",
       "      <td>0.0233</td>\n",
       "      <td>-0.0619</td>\n",
       "    </tr>\n",
       "    <tr>\n",
       "      <th>50%</th>\n",
       "      <td>-0.2276</td>\n",
       "      <td>-0.0430</td>\n",
       "      <td>-0.1740</td>\n",
       "      <td>-0.1634</td>\n",
       "      <td>-0.0237</td>\n",
       "      <td>-0.0610</td>\n",
       "      <td>0.0340</td>\n",
       "      <td>0.2067</td>\n",
       "      <td>0.0981</td>\n",
       "      <td>0.1213</td>\n",
       "      <td>0.0560</td>\n",
       "    </tr>\n",
       "    <tr>\n",
       "      <th>75%</th>\n",
       "      <td>1.0798</td>\n",
       "      <td>0.9227</td>\n",
       "      <td>0.6063</td>\n",
       "      <td>0.1381</td>\n",
       "      <td>0.4442</td>\n",
       "      <td>0.4652</td>\n",
       "      <td>0.6711</td>\n",
       "      <td>0.5708</td>\n",
       "      <td>0.4034</td>\n",
       "      <td>0.1917</td>\n",
       "      <td>0.1921</td>\n",
       "    </tr>\n",
       "    <tr>\n",
       "      <th>max</th>\n",
       "      <td>4.5665</td>\n",
       "      <td>4.1024</td>\n",
       "      <td>4.1994</td>\n",
       "      <td>4.2030</td>\n",
       "      <td>3.6064</td>\n",
       "      <td>4.2020</td>\n",
       "      <td>3.6938</td>\n",
       "      <td>2.8296</td>\n",
       "      <td>2.4624</td>\n",
       "      <td>1.8498</td>\n",
       "      <td>1.8341</td>\n",
       "    </tr>\n",
       "  </tbody>\n",
       "</table>\n",
       "</div>"
      ],
      "text/plain": [
       "             PC1        PC2        PC3        PC4        PC5        PC6  \\\n",
       "count  1453.0000  1453.0000  1453.0000  1453.0000  1453.0000  1453.0000   \n",
       "mean      0.0000     0.0000     0.0000     0.0000    -0.0000    -0.0000   \n",
       "std       1.6772     1.2779     1.1752     1.0401     0.9586     0.8846   \n",
       "min      -2.8837    -2.2294    -1.8522    -1.4812    -2.8089    -2.7760   \n",
       "25%      -1.0828    -0.8196    -0.8166    -0.7416    -0.6595    -0.6526   \n",
       "50%      -0.2276    -0.0430    -0.1740    -0.1634    -0.0237    -0.0610   \n",
       "75%       1.0798     0.9227     0.6063     0.1381     0.4442     0.4652   \n",
       "max       4.5665     4.1024     4.1994     4.2030     3.6064     4.2020   \n",
       "\n",
       "             PC7        PC8        PC9       PC10       PC11  \n",
       "count  1453.0000  1453.0000  1453.0000  1453.0000  1453.0000  \n",
       "mean     -0.0000     0.0000    -0.0000    -0.0000     0.0000  \n",
       "std       0.8458     0.7699     0.7241     0.5548     0.5070  \n",
       "min      -2.7919    -2.0373    -2.2920    -1.5961    -1.7889  \n",
       "25%      -0.5181    -0.4690    -0.4512     0.0233    -0.0619  \n",
       "50%       0.0340     0.2067     0.0981     0.1213     0.0560  \n",
       "75%       0.6711     0.5708     0.4034     0.1917     0.1921  \n",
       "max       3.6938     2.8296     2.4624     1.8498     1.8341  "
      ]
     },
     "execution_count": 34,
     "metadata": {},
     "output_type": "execute_result"
    }
   ],
   "source": [
    "prpalDf.describe().round(4)"
   ]
  },
  {
   "cell_type": "code",
   "execution_count": 35,
   "id": "6f4c1926",
   "metadata": {},
   "outputs": [
    {
     "data": {
      "text/plain": [
       "PC1     1.677250\n",
       "PC2     1.277868\n",
       "PC3     1.175207\n",
       "PC4     1.040053\n",
       "PC5     0.958620\n",
       "PC6     0.884613\n",
       "PC7     0.845774\n",
       "PC8     0.769870\n",
       "PC9     0.724065\n",
       "PC10    0.554809\n",
       "PC11    0.506983\n",
       "dtype: float64"
      ]
     },
     "execution_count": 35,
     "metadata": {},
     "output_type": "execute_result"
    }
   ],
   "source": [
    "prpalDf.std()"
   ]
  },
  {
   "cell_type": "code",
   "execution_count": 36,
   "id": "e635d70f",
   "metadata": {},
   "outputs": [
    {
     "data": {
      "text/plain": [
       "<AxesSubplot:xlabel='PC1', ylabel='PC2'>"
      ]
     },
     "execution_count": 36,
     "metadata": {},
     "output_type": "execute_result"
    },
    {
     "data": {
      "image/png": "[encoded data removed]",
      "text/plain": [
       "<Figure size 432x288 with 1 Axes>"
      ]
     },
     "metadata": {},
     "output_type": "display_data"
    }
   ],
   "source": [
    "sns.set(style='whitegrid')\n",
    "\n",
    "sns.scatterplot(x='PC1',\n",
    "                    y='PC2',\n",
    "                    data=prpalDf)"
   ]
  },
  {
   "cell_type": "code",
   "execution_count": 37,
   "id": "75a3a4bd",
   "metadata": {},
   "outputs": [
    {
     "data": {
      "text/plain": [
       "Once a month             439\n",
       "Every three months       342\n",
       "Once a year              252\n",
       "Once a week              235\n",
       "Never                    131\n",
       "More than once a week     54\n",
       "Name: VisitFrequency, dtype: int64"
      ]
     },
     "execution_count": 37,
     "metadata": {},
     "output_type": "execute_result"
    }
   ],
   "source": [
    "data['VisitFrequency'].value_counts()"
   ]
  },
  {
   "cell_type": "code",
   "execution_count": 38,
   "id": "2e5957e0",
   "metadata": {},
   "outputs": [
    {
     "data": {
      "text/plain": [
       "2"
      ]
     },
     "execution_count": 38,
     "metadata": {},
     "output_type": "execute_result"
    }
   ],
   "source": [
    "data['yummy'].nunique()"
   ]
  },
  {
   "cell_type": "code",
   "execution_count": 39,
   "id": "c6c7c77e",
   "metadata": {},
   "outputs": [
    {
     "data": {
      "text/plain": [
       "yummy             0\n",
       "convenient        0\n",
       "spicy             0\n",
       "fattening         0\n",
       "greasy            0\n",
       "fast              0\n",
       "cheap             0\n",
       "tasty             0\n",
       "expensive         0\n",
       "healthy           0\n",
       "disgusting        0\n",
       "Like              0\n",
       "Age               0\n",
       "VisitFrequency    0\n",
       "Gender            0\n",
       "dtype: int64"
      ]
     },
     "execution_count": 39,
     "metadata": {},
     "output_type": "execute_result"
    }
   ],
   "source": [
    "data.isnull().sum()"
   ]
  },
  {
   "cell_type": "code",
   "execution_count": 40,
   "id": "a91d7536",
   "metadata": {},
   "outputs": [
    {
     "data": {
      "text/plain": [
       "2"
      ]
     },
     "execution_count": 40,
     "metadata": {},
     "output_type": "execute_result"
    }
   ],
   "source": [
    "data['Gender'].nunique()"
   ]
  },
  {
   "cell_type": "code",
   "execution_count": 41,
   "id": "7ad79ca2",
   "metadata": {},
   "outputs": [],
   "source": [
    "from sklearn.preprocessing import OrdinalEncoder\n",
    "ord1=OrdinalEncoder(categories=[['Yes','No']])"
   ]
  },
  {
   "cell_type": "code",
   "execution_count": 42,
   "id": "33df4ffb",
   "metadata": {},
   "outputs": [],
   "source": [
    "ord2=OrdinalEncoder(categories=[['Never',\"Once a year\",\"Every three months\",\"Once a month\",\"Once a week\",\"More than once a week\"]])"
   ]
  },
  {
   "cell_type": "code",
   "execution_count": 43,
   "id": "ff475150",
   "metadata": {},
   "outputs": [],
   "source": [
    "from sklearn.preprocessing import LabelEncoder "
   ]
  },
  {
   "cell_type": "code",
   "execution_count": 44,
   "id": "b5e1eb39",
   "metadata": {},
   "outputs": [],
   "source": [
    "le=LabelEncoder()"
   ]
  },
  {
   "cell_type": "code",
   "execution_count": 47,
   "id": "8d757b57",
   "metadata": {},
   "outputs": [],
   "source": [
    "data['Gender']=le.fit_transform(data[['Gender']])"
   ]
  },
  {
   "cell_type": "code",
   "execution_count": 48,
   "id": "84f7fb97",
   "metadata": {},
   "outputs": [],
   "source": [
    "data['VisitFrequency']=ord2.fit_transform(data[['VisitFrequency']])"
   ]
  },
  {
   "cell_type": "code",
   "execution_count": 49,
   "id": "ac83c2b4",
   "metadata": {},
   "outputs": [
    {
     "data": {
      "text/html": [
       "<div>\n",
       "<style scoped>\n",
       "    .dataframe tbody tr th:only-of-type {\n",
       "        vertical-align: middle;\n",
       "    }\n",
       "\n",
       "    .dataframe tbody tr th {\n",
       "        vertical-align: top;\n",
       "    }\n",
       "\n",
       "    .dataframe thead th {\n",
       "        text-align: right;\n",
       "    }\n",
       "</style>\n",
       "<table border=\"1\" class=\"dataframe\">\n",
       "  <thead>\n",
       "    <tr style=\"text-align: right;\">\n",
       "      <th></th>\n",
       "      <th>yummy</th>\n",
       "      <th>convenient</th>\n",
       "      <th>spicy</th>\n",
       "      <th>fattening</th>\n",
       "      <th>greasy</th>\n",
       "      <th>fast</th>\n",
       "      <th>cheap</th>\n",
       "      <th>tasty</th>\n",
       "      <th>expensive</th>\n",
       "      <th>healthy</th>\n",
       "      <th>disgusting</th>\n",
       "      <th>Like</th>\n",
       "      <th>Age</th>\n",
       "      <th>VisitFrequency</th>\n",
       "      <th>Gender</th>\n",
       "    </tr>\n",
       "  </thead>\n",
       "  <tbody>\n",
       "    <tr>\n",
       "      <th>0</th>\n",
       "      <td>0</td>\n",
       "      <td>1</td>\n",
       "      <td>0</td>\n",
       "      <td>1</td>\n",
       "      <td>0</td>\n",
       "      <td>1</td>\n",
       "      <td>1</td>\n",
       "      <td>0</td>\n",
       "      <td>1</td>\n",
       "      <td>0</td>\n",
       "      <td>0</td>\n",
       "      <td>-3</td>\n",
       "      <td>61</td>\n",
       "      <td>2.0</td>\n",
       "      <td>0</td>\n",
       "    </tr>\n",
       "    <tr>\n",
       "      <th>1</th>\n",
       "      <td>1</td>\n",
       "      <td>1</td>\n",
       "      <td>0</td>\n",
       "      <td>1</td>\n",
       "      <td>1</td>\n",
       "      <td>1</td>\n",
       "      <td>1</td>\n",
       "      <td>1</td>\n",
       "      <td>1</td>\n",
       "      <td>0</td>\n",
       "      <td>0</td>\n",
       "      <td>2</td>\n",
       "      <td>51</td>\n",
       "      <td>2.0</td>\n",
       "      <td>0</td>\n",
       "    </tr>\n",
       "    <tr>\n",
       "      <th>2</th>\n",
       "      <td>0</td>\n",
       "      <td>1</td>\n",
       "      <td>1</td>\n",
       "      <td>1</td>\n",
       "      <td>1</td>\n",
       "      <td>1</td>\n",
       "      <td>0</td>\n",
       "      <td>1</td>\n",
       "      <td>1</td>\n",
       "      <td>1</td>\n",
       "      <td>0</td>\n",
       "      <td>1</td>\n",
       "      <td>62</td>\n",
       "      <td>2.0</td>\n",
       "      <td>0</td>\n",
       "    </tr>\n",
       "    <tr>\n",
       "      <th>3</th>\n",
       "      <td>1</td>\n",
       "      <td>1</td>\n",
       "      <td>0</td>\n",
       "      <td>1</td>\n",
       "      <td>1</td>\n",
       "      <td>1</td>\n",
       "      <td>1</td>\n",
       "      <td>1</td>\n",
       "      <td>0</td>\n",
       "      <td>0</td>\n",
       "      <td>1</td>\n",
       "      <td>4</td>\n",
       "      <td>69</td>\n",
       "      <td>4.0</td>\n",
       "      <td>0</td>\n",
       "    </tr>\n",
       "    <tr>\n",
       "      <th>4</th>\n",
       "      <td>0</td>\n",
       "      <td>1</td>\n",
       "      <td>0</td>\n",
       "      <td>1</td>\n",
       "      <td>1</td>\n",
       "      <td>1</td>\n",
       "      <td>1</td>\n",
       "      <td>0</td>\n",
       "      <td>0</td>\n",
       "      <td>1</td>\n",
       "      <td>0</td>\n",
       "      <td>2</td>\n",
       "      <td>49</td>\n",
       "      <td>3.0</td>\n",
       "      <td>1</td>\n",
       "    </tr>\n",
       "  </tbody>\n",
       "</table>\n",
       "</div>"
      ],
      "text/plain": [
       "   yummy  convenient  spicy  fattening  greasy  fast  cheap  tasty  expensive  \\\n",
       "0      0           1      0          1       0     1      1      0          1   \n",
       "1      1           1      0          1       1     1      1      1          1   \n",
       "2      0           1      1          1       1     1      0      1          1   \n",
       "3      1           1      0          1       1     1      1      1          0   \n",
       "4      0           1      0          1       1     1      1      0          0   \n",
       "\n",
       "   healthy  disgusting Like  Age  VisitFrequency  Gender  \n",
       "0        0           0   -3   61             2.0       0  \n",
       "1        0           0    2   51             2.0       0  \n",
       "2        1           0    1   62             2.0       0  \n",
       "3        0           1    4   69             4.0       0  \n",
       "4        1           0    2   49             3.0       1  "
      ]
     },
     "execution_count": 49,
     "metadata": {},
     "output_type": "execute_result"
    }
   ],
   "source": [
    "data.head()"
   ]
  },
  {
   "cell_type": "code",
   "execution_count": 50,
   "id": "76c8ec45",
   "metadata": {},
   "outputs": [],
   "source": [
    "from sklearn.preprocessing import StandardScaler"
   ]
  },
  {
   "cell_type": "code",
   "execution_count": 51,
   "id": "4fcbe4ad",
   "metadata": {},
   "outputs": [],
   "source": [
    "ss=StandardScaler()"
   ]
  },
  {
   "cell_type": "code",
   "execution_count": 52,
   "id": "9b27a523",
   "metadata": {},
   "outputs": [],
   "source": [
    "data['Age']=ss.fit_transform(data[['Age']])"
   ]
  },
  {
   "cell_type": "code",
   "execution_count": 53,
   "id": "9f523f96",
   "metadata": {},
   "outputs": [
    {
     "name": "stdout",
     "output_type": "stream",
     "text": [
      "<class 'pandas.core.frame.DataFrame'>\n",
      "RangeIndex: 1453 entries, 0 to 1452\n",
      "Data columns (total 15 columns):\n",
      " #   Column          Non-Null Count  Dtype  \n",
      "---  ------          --------------  -----  \n",
      " 0   yummy           1453 non-null   int64  \n",
      " 1   convenient      1453 non-null   int64  \n",
      " 2   spicy           1453 non-null   int64  \n",
      " 3   fattening       1453 non-null   int64  \n",
      " 4   greasy          1453 non-null   int64  \n",
      " 5   fast            1453 non-null   int64  \n",
      " 6   cheap           1453 non-null   int64  \n",
      " 7   tasty           1453 non-null   int64  \n",
      " 8   expensive       1453 non-null   int64  \n",
      " 9   healthy         1453 non-null   int64  \n",
      " 10  disgusting      1453 non-null   int64  \n",
      " 11  Like            1453 non-null   object \n",
      " 12  Age             1453 non-null   float64\n",
      " 13  VisitFrequency  1453 non-null   float64\n",
      " 14  Gender          1453 non-null   int32  \n",
      "dtypes: float64(2), int32(1), int64(11), object(1)\n",
      "memory usage: 164.7+ KB\n"
     ]
    }
   ],
   "source": [
    "data.info()"
   ]
  },
  {
   "cell_type": "code",
   "execution_count": 54,
   "id": "d2bcc080",
   "metadata": {},
   "outputs": [
    {
     "data": {
      "text/plain": [
       "3               229\n",
       "2               187\n",
       "0               169\n",
       "4               160\n",
       "1               152\n",
       "I hate it!-5    152\n",
       "I love it!+5    143\n",
       "-3               73\n",
       "-4               71\n",
       "-2               59\n",
       "-1               58\n",
       "Name: Like, dtype: int64"
      ]
     },
     "execution_count": 54,
     "metadata": {},
     "output_type": "execute_result"
    }
   ],
   "source": [
    "data['Like'].value_counts()"
   ]
  },
  {
   "cell_type": "code",
   "execution_count": 55,
   "id": "e99b72bc",
   "metadata": {},
   "outputs": [],
   "source": [
    "data[data['Like']==\"I hate it!-5\"]=-5"
   ]
  },
  {
   "cell_type": "code",
   "execution_count": 56,
   "id": "cb0d0044",
   "metadata": {},
   "outputs": [],
   "source": [
    "data[data['Like']==\"I love it!+5\"]=5"
   ]
  },
  {
   "cell_type": "code",
   "execution_count": 57,
   "id": "f0f9557e",
   "metadata": {},
   "outputs": [
    {
     "data": {
      "text/plain": [
       "<AxesSubplot:xlabel='yummy', ylabel='Density'>"
      ]
     },
     "execution_count": 57,
     "metadata": {},
     "output_type": "execute_result"
    },
    {
     "data": {
      "image/png": "[encoded data removed]",
      "text/plain": [
       "<Figure size 432x288 with 1 Axes>"
      ]
     },
     "metadata": {},
     "output_type": "display_data"
    }
   ],
   "source": [
    "sns.distplot(data['yummy'])"
   ]
  },
  {
   "cell_type": "code",
   "execution_count": 58,
   "id": "7b33ab72",
   "metadata": {},
   "outputs": [
    {
     "data": {
      "text/plain": [
       "<AxesSubplot:xlabel='VisitFrequency', ylabel='Density'>"
      ]
     },
     "execution_count": 58,
     "metadata": {},
     "output_type": "execute_result"
    },
    {
     "data": {
      "image/png": "[encoded data removed]",
      "text/plain": [
       "<Figure size 432x288 with 1 Axes>"
      ]
     },
     "metadata": {},
     "output_type": "display_data"
    }
   ],
   "source": [
    "sns.distplot(data['VisitFrequency'])"
   ]
  },
  {
   "cell_type": "code",
   "execution_count": 59,
   "id": "681daa55",
   "metadata": {},
   "outputs": [],
   "source": [
    "from sklearn.cluster import KMeans"
   ]
  },
  {
   "cell_type": "code",
   "execution_count": 60,
   "id": "6481229f",
   "metadata": {},
   "outputs": [],
   "source": [
    "distortions = []\n",
    "K = range(1,10)\n",
    "for k in K:\n",
    "    kmeanModel = KMeans(n_clusters=k)\n",
    "    kmeanModel.fit(data)\n",
    "    distortions.append(kmeanModel.inertia_)"
   ]
  },
  {
   "cell_type": "code",
   "execution_count": 61,
   "id": "f05d044d",
   "metadata": {},
   "outputs": [
    {
     "data": {
      "image/png": "[encoded data removed]",
      "text/plain": [
       "<Figure size 1080x576 with 1 Axes>"
      ]
     },
     "metadata": {},
     "output_type": "display_data"
    }
   ],
   "source": [
    "plt.figure(figsize=(15,8))\n",
    "plt.plot(K, distortions, 'bx-')\n",
    "plt.xlabel('k')\n",
    "plt.ylabel('Distortion')\n",
    "plt.title('The Elbow Method showing the optimal k')\n",
    "plt.show()"
   ]
  },
  {
   "cell_type": "code",
   "execution_count": 62,
   "id": "1fc01b5e",
   "metadata": {},
   "outputs": [
    {
     "data": {
      "text/plain": [
       "KMeans(n_clusters=3)"
      ]
     },
     "execution_count": 62,
     "metadata": {},
     "output_type": "execute_result"
    }
   ],
   "source": [
    "kmeanModel = KMeans(n_clusters=3)\n",
    "kmeanModel.fit(data)"
   ]
  },
  {
   "cell_type": "code",
   "execution_count": null,
   "id": "4ae9e7fa",
   "metadata": {},
   "outputs": [],
   "source": []
  }
 ],
 "metadata": {
  "kernelspec": {
   "display_name": "Python 3",
   "language": "python",
   "name": "python3"
  },
  "language_info": {
   "codemirror_mode": {
    "name": "ipython",
    "version": 3
   },
   "file_extension": ".py",
   "mimetype": "text/x-python",
   "name": "python",
   "nbconvert_exporter": "python",
   "pygments_lexer": "ipython3",
   "version": "3.8.8"
  }
 },
 "nbformat": 4,
 "nbformat_minor": 5
}
